{
 "cells": [
  {
   "cell_type": "code",
   "execution_count": 1,
   "id": "d55a6c92",
   "metadata": {},
   "outputs": [],
   "source": [
    "import pandas as pd\n",
    "import seaborn as sns\n",
    "import matplotlib.pyplot as plt\n",
    "import numpy as np \n",
    "from sklearn.linear_model import LinearRegression\n",
    "from sklearn.model_selection import train_test_split\n",
    "from sklearn import preprocessing\n",
    "from sklearn import metrics"
   ]
  },
  {
   "cell_type": "code",
   "execution_count": 2,
   "id": "032f5317",
   "metadata": {},
   "outputs": [
    {
     "data": {
      "text/html": [
       "<div>\n",
       "<style scoped>\n",
       "    .dataframe tbody tr th:only-of-type {\n",
       "        vertical-align: middle;\n",
       "    }\n",
       "\n",
       "    .dataframe tbody tr th {\n",
       "        vertical-align: top;\n",
       "    }\n",
       "\n",
       "    .dataframe thead th {\n",
       "        text-align: right;\n",
       "    }\n",
       "</style>\n",
       "<table border=\"1\" class=\"dataframe\">\n",
       "  <thead>\n",
       "    <tr style=\"text-align: right;\">\n",
       "      <th></th>\n",
       "      <th>Date</th>\n",
       "      <th>Start Time</th>\n",
       "      <th>Temp</th>\n",
       "      <th>Feels Like</th>\n",
       "      <th>Wind</th>\n",
       "      <th>Sky</th>\n",
       "      <th>Precip</th>\n",
       "      <th>Mi</th>\n",
       "      <th>Type</th>\n",
       "      <th>Felt</th>\n",
       "      <th>Top1</th>\n",
       "      <th>Top2</th>\n",
       "      <th>Bottom1</th>\n",
       "      <th>Bottom2</th>\n",
       "      <th>Head Warmth</th>\n",
       "      <th>Head Hat</th>\n",
       "      <th>Hands</th>\n",
       "    </tr>\n",
       "  </thead>\n",
       "  <tbody>\n",
       "    <tr>\n",
       "      <th>0</th>\n",
       "      <td>10/18/22</td>\n",
       "      <td>1:00 PM</td>\n",
       "      <td>45</td>\n",
       "      <td>35</td>\n",
       "      <td>15</td>\n",
       "      <td>Cloudy or Night</td>\n",
       "      <td>None</td>\n",
       "      <td>3.0</td>\n",
       "      <td>Easy</td>\n",
       "      <td>Perfect</td>\n",
       "      <td>Blue Nike Tech Tee</td>\n",
       "      <td>Chicago Marathon quarter zip</td>\n",
       "      <td>Nike Calf Crops</td>\n",
       "      <td>NaN</td>\n",
       "      <td>Bondi Band</td>\n",
       "      <td>NaN</td>\n",
       "      <td>Old Navy tech gloves (removed)</td>\n",
       "    </tr>\n",
       "    <tr>\n",
       "      <th>1</th>\n",
       "      <td>10/20/22</td>\n",
       "      <td>9:00 AM</td>\n",
       "      <td>40</td>\n",
       "      <td>30</td>\n",
       "      <td>10</td>\n",
       "      <td>Sunny</td>\n",
       "      <td>None</td>\n",
       "      <td>3.0</td>\n",
       "      <td>Easy</td>\n",
       "      <td>Perfect</td>\n",
       "      <td>Teal Nike base</td>\n",
       "      <td>Teal UA funnel neck</td>\n",
       "      <td>Nike unlined tights</td>\n",
       "      <td>NaN</td>\n",
       "      <td>Bondi Band</td>\n",
       "      <td>NaN</td>\n",
       "      <td>Old Navy tech gloves (removed)</td>\n",
       "    </tr>\n",
       "    <tr>\n",
       "      <th>2</th>\n",
       "      <td>11/13/22</td>\n",
       "      <td>3:15 PM</td>\n",
       "      <td>35</td>\n",
       "      <td>30</td>\n",
       "      <td>5</td>\n",
       "      <td>Cloudy or Night</td>\n",
       "      <td>None</td>\n",
       "      <td>3.0</td>\n",
       "      <td>Easy</td>\n",
       "      <td>Cold</td>\n",
       "      <td>Blue Nathan base</td>\n",
       "      <td>Run Mag Mile sunset half zip</td>\n",
       "      <td>Nike tights with mesh backs of knees</td>\n",
       "      <td>NaN</td>\n",
       "      <td>wool single layer</td>\n",
       "      <td>baseball cap</td>\n",
       "      <td>NaN</td>\n",
       "    </tr>\n",
       "    <tr>\n",
       "      <th>3</th>\n",
       "      <td>11/18/22</td>\n",
       "      <td>10:15 AM</td>\n",
       "      <td>30</td>\n",
       "      <td>20</td>\n",
       "      <td>10</td>\n",
       "      <td>Sunny</td>\n",
       "      <td>None</td>\n",
       "      <td>3.0</td>\n",
       "      <td>Easy</td>\n",
       "      <td>Cold</td>\n",
       "      <td>Black smartwool base</td>\n",
       "      <td>Blue smartwool half zip</td>\n",
       "      <td>Black Athleta Rainier tights</td>\n",
       "      <td>NaN</td>\n",
       "      <td>wool double layer</td>\n",
       "      <td>baseball cap</td>\n",
       "      <td>Sugoi gloves</td>\n",
       "    </tr>\n",
       "    <tr>\n",
       "      <th>4</th>\n",
       "      <td>11/28/22</td>\n",
       "      <td>10:00 AM</td>\n",
       "      <td>40</td>\n",
       "      <td>35</td>\n",
       "      <td>5</td>\n",
       "      <td>Sunny</td>\n",
       "      <td>None</td>\n",
       "      <td>3.0</td>\n",
       "      <td>Easy</td>\n",
       "      <td>Warm</td>\n",
       "      <td>Black smartwool base</td>\n",
       "      <td>black smartwool half zip</td>\n",
       "      <td>Black purple Athleta tights</td>\n",
       "      <td>NaN</td>\n",
       "      <td>wool single layer</td>\n",
       "      <td>baseball cap</td>\n",
       "      <td>NaN</td>\n",
       "    </tr>\n",
       "  </tbody>\n",
       "</table>\n",
       "</div>"
      ],
      "text/plain": [
       "       Date Start Time  Temp  Feels Like  Wind              Sky Precip   Mi  \\\n",
       "0  10/18/22    1:00 PM    45          35    15  Cloudy or Night   None  3.0   \n",
       "1  10/20/22    9:00 AM    40          30    10            Sunny   None  3.0   \n",
       "2  11/13/22    3:15 PM    35          30     5  Cloudy or Night   None  3.0   \n",
       "3  11/18/22   10:15 AM    30          20    10            Sunny   None  3.0   \n",
       "4  11/28/22   10:00 AM    40          35     5            Sunny   None  3.0   \n",
       "\n",
       "   Type     Felt                  Top1                          Top2  \\\n",
       "0  Easy  Perfect    Blue Nike Tech Tee  Chicago Marathon quarter zip   \n",
       "1  Easy  Perfect        Teal Nike base           Teal UA funnel neck   \n",
       "2  Easy     Cold      Blue Nathan base  Run Mag Mile sunset half zip   \n",
       "3  Easy     Cold  Black smartwool base       Blue smartwool half zip   \n",
       "4  Easy    Warm   Black smartwool base      black smartwool half zip   \n",
       "\n",
       "                                Bottom1 Bottom2        Head Warmth  \\\n",
       "0                       Nike Calf Crops     NaN         Bondi Band   \n",
       "1                   Nike unlined tights     NaN         Bondi Band   \n",
       "2  Nike tights with mesh backs of knees     NaN  wool single layer   \n",
       "3         Black Athleta Rainier tights      NaN  wool double layer   \n",
       "4           Black purple Athleta tights     NaN  wool single layer   \n",
       "\n",
       "       Head Hat                           Hands  \n",
       "0           NaN  Old Navy tech gloves (removed)  \n",
       "1           NaN  Old Navy tech gloves (removed)  \n",
       "2  baseball cap                             NaN  \n",
       "3  baseball cap                    Sugoi gloves  \n",
       "4  baseball cap                             NaN  "
      ]
     },
     "execution_count": 2,
     "metadata": {},
     "output_type": "execute_result"
    }
   ],
   "source": [
    "df = pd.read_csv('Running Weather - Log.csv')\n",
    "df.head()"
   ]
  },
  {
   "cell_type": "code",
   "execution_count": 3,
   "id": "30cf9b40",
   "metadata": {},
   "outputs": [
    {
     "data": {
      "text/plain": [
       "(27, 17)"
      ]
     },
     "execution_count": 3,
     "metadata": {},
     "output_type": "execute_result"
    }
   ],
   "source": [
    "df.shape"
   ]
  },
  {
   "cell_type": "code",
   "execution_count": 4,
   "id": "dba14ac3",
   "metadata": {},
   "outputs": [
    {
     "data": {
      "text/plain": [
       "Index(['Date', 'Start Time', 'Temp', 'Feels Like', 'Wind', 'Sky', 'Precip',\n",
       "       'Mi', 'Type', 'Felt', 'Top1', 'Top2', 'Bottom1', 'Bottom2',\n",
       "       'Head Warmth', 'Head Hat', 'Hands'],\n",
       "      dtype='object')"
      ]
     },
     "execution_count": 4,
     "metadata": {},
     "output_type": "execute_result"
    }
   ],
   "source": [
    "df.columns"
   ]
  },
  {
   "cell_type": "code",
   "execution_count": 5,
   "id": "aaa53545",
   "metadata": {},
   "outputs": [
    {
     "name": "stdout",
     "output_type": "stream",
     "text": [
      "<class 'pandas.core.frame.DataFrame'>\n",
      "RangeIndex: 27 entries, 0 to 26\n",
      "Data columns (total 17 columns):\n",
      " #   Column       Non-Null Count  Dtype  \n",
      "---  ------       --------------  -----  \n",
      " 0   Date         27 non-null     object \n",
      " 1   Start Time   27 non-null     object \n",
      " 2   Temp         27 non-null     int64  \n",
      " 3   Feels Like   27 non-null     int64  \n",
      " 4   Wind         27 non-null     int64  \n",
      " 5   Sky          27 non-null     object \n",
      " 6   Precip       27 non-null     object \n",
      " 7   Mi           27 non-null     float64\n",
      " 8   Type         27 non-null     object \n",
      " 9   Felt         27 non-null     object \n",
      " 10  Top1         27 non-null     object \n",
      " 11  Top2         23 non-null     object \n",
      " 12  Bottom1      27 non-null     object \n",
      " 13  Bottom2      2 non-null      object \n",
      " 14  Head Warmth  19 non-null     object \n",
      " 15  Head Hat     12 non-null     object \n",
      " 16  Hands        17 non-null     object \n",
      "dtypes: float64(1), int64(3), object(13)\n",
      "memory usage: 3.7+ KB\n"
     ]
    }
   ],
   "source": [
    "df.info()"
   ]
  },
  {
   "cell_type": "code",
   "execution_count": 6,
   "id": "33df56d7",
   "metadata": {},
   "outputs": [
    {
     "data": {
      "text/html": [
       "<div>\n",
       "<style scoped>\n",
       "    .dataframe tbody tr th:only-of-type {\n",
       "        vertical-align: middle;\n",
       "    }\n",
       "\n",
       "    .dataframe tbody tr th {\n",
       "        vertical-align: top;\n",
       "    }\n",
       "\n",
       "    .dataframe thead th {\n",
       "        text-align: right;\n",
       "    }\n",
       "</style>\n",
       "<table border=\"1\" class=\"dataframe\">\n",
       "  <thead>\n",
       "    <tr style=\"text-align: right;\">\n",
       "      <th></th>\n",
       "      <th>Temp</th>\n",
       "      <th>Feels Like</th>\n",
       "      <th>Wind</th>\n",
       "      <th>Mi</th>\n",
       "    </tr>\n",
       "  </thead>\n",
       "  <tbody>\n",
       "    <tr>\n",
       "      <th>count</th>\n",
       "      <td>27.000000</td>\n",
       "      <td>27.000000</td>\n",
       "      <td>27.000000</td>\n",
       "      <td>27.000000</td>\n",
       "    </tr>\n",
       "    <tr>\n",
       "      <th>mean</th>\n",
       "      <td>38.333333</td>\n",
       "      <td>32.962963</td>\n",
       "      <td>7.777778</td>\n",
       "      <td>3.425926</td>\n",
       "    </tr>\n",
       "    <tr>\n",
       "      <th>std</th>\n",
       "      <td>6.793662</td>\n",
       "      <td>8.798957</td>\n",
       "      <td>2.886751</td>\n",
       "      <td>0.689254</td>\n",
       "    </tr>\n",
       "    <tr>\n",
       "      <th>min</th>\n",
       "      <td>20.000000</td>\n",
       "      <td>10.000000</td>\n",
       "      <td>5.000000</td>\n",
       "      <td>2.000000</td>\n",
       "    </tr>\n",
       "    <tr>\n",
       "      <th>25%</th>\n",
       "      <td>35.000000</td>\n",
       "      <td>30.000000</td>\n",
       "      <td>5.000000</td>\n",
       "      <td>3.000000</td>\n",
       "    </tr>\n",
       "    <tr>\n",
       "      <th>50%</th>\n",
       "      <td>40.000000</td>\n",
       "      <td>35.000000</td>\n",
       "      <td>10.000000</td>\n",
       "      <td>3.000000</td>\n",
       "    </tr>\n",
       "    <tr>\n",
       "      <th>75%</th>\n",
       "      <td>40.000000</td>\n",
       "      <td>40.000000</td>\n",
       "      <td>10.000000</td>\n",
       "      <td>4.000000</td>\n",
       "    </tr>\n",
       "    <tr>\n",
       "      <th>max</th>\n",
       "      <td>50.000000</td>\n",
       "      <td>45.000000</td>\n",
       "      <td>15.000000</td>\n",
       "      <td>5.000000</td>\n",
       "    </tr>\n",
       "  </tbody>\n",
       "</table>\n",
       "</div>"
      ],
      "text/plain": [
       "            Temp  Feels Like       Wind         Mi\n",
       "count  27.000000   27.000000  27.000000  27.000000\n",
       "mean   38.333333   32.962963   7.777778   3.425926\n",
       "std     6.793662    8.798957   2.886751   0.689254\n",
       "min    20.000000   10.000000   5.000000   2.000000\n",
       "25%    35.000000   30.000000   5.000000   3.000000\n",
       "50%    40.000000   35.000000  10.000000   3.000000\n",
       "75%    40.000000   40.000000  10.000000   4.000000\n",
       "max    50.000000   45.000000  15.000000   5.000000"
      ]
     },
     "execution_count": 6,
     "metadata": {},
     "output_type": "execute_result"
    }
   ],
   "source": [
    "df.describe()"
   ]
  },
  {
   "cell_type": "markdown",
   "id": "f6c3ee9d",
   "metadata": {},
   "source": [
    "# Visualize Weather Conditions"
   ]
  },
  {
   "cell_type": "code",
   "execution_count": 119,
   "id": "67146c50",
   "metadata": {},
   "outputs": [
    {
     "data": {
      "image/png": "[encoded data removed]",
      "text/plain": [
       "<Figure size 432x288 with 1 Axes>"
      ]
     },
     "metadata": {
      "needs_background": "light"
     },
     "output_type": "display_data"
    }
   ],
   "source": [
    "sns.histplot(data=df, x=\"Temp\");\n",
    "plt.title(\"Temperature\");"
   ]
  },
  {
   "cell_type": "code",
   "execution_count": 120,
   "id": "a1e0f9dc",
   "metadata": {},
   "outputs": [
    {
     "data": {
      "image/png": "[encoded data removed]",
      "text/plain": [
       "<Figure size 432x288 with 1 Axes>"
      ]
     },
     "metadata": {
      "needs_background": "light"
     },
     "output_type": "display_data"
    }
   ],
   "source": [
    "sns.violinplot(data=df, y=\"Temp\");\n",
    "plt.title(\"Temperature\");"
   ]
  },
  {
   "cell_type": "code",
   "execution_count": 121,
   "id": "94ee2b68",
   "metadata": {},
   "outputs": [
    {
     "data": {
      "image/png": "[encoded data removed]",
      "text/plain": [
       "<Figure size 432x288 with 1 Axes>"
      ]
     },
     "metadata": {
      "needs_background": "light"
     },
     "output_type": "display_data"
    }
   ],
   "source": [
    "sns.boxplot(data=df, y=\"Temp\");\n",
    "plt.title(\"Temperature\");"
   ]
  },
  {
   "cell_type": "code",
   "execution_count": null,
   "id": "9ed46d14",
   "metadata": {},
   "outputs": [],
   "source": []
  },
  {
   "cell_type": "code",
   "execution_count": 128,
   "id": "43423a06",
   "metadata": {},
   "outputs": [
    {
     "data": {
      "image/png": "[encoded data removed]",
      "text/plain": [
       "<Figure size 432x288 with 1 Axes>"
      ]
     },
     "metadata": {
      "needs_background": "light"
     },
     "output_type": "display_data"
    }
   ],
   "source": [
    "sns.histplot(data=df, x=\"Feels Like\");\n",
    "plt.title(\"Feels Like Temperature\");"
   ]
  },
  {
   "cell_type": "code",
   "execution_count": 127,
   "id": "9d57ff71",
   "metadata": {},
   "outputs": [
    {
     "data": {
      "image/png": "[encoded data removed]",
      "text/plain": [
       "<Figure size 432x288 with 1 Axes>"
      ]
     },
     "metadata": {
      "needs_background": "light"
     },
     "output_type": "display_data"
    }
   ],
   "source": [
    "sns.violinplot(data=df, y=\"Feels Like\");\n",
    "plt.title(\"Feels Like Temperature\");"
   ]
  },
  {
   "cell_type": "code",
   "execution_count": 126,
   "id": "1481c577",
   "metadata": {},
   "outputs": [
    {
     "data": {
      "image/png": "[encoded data removed]",
      "text/plain": [
       "<Figure size 432x288 with 1 Axes>"
      ]
     },
     "metadata": {
      "needs_background": "light"
     },
     "output_type": "display_data"
    }
   ],
   "source": [
    "sns.boxplot(data=df, y=\"Feels Like\");\n",
    "plt.title(\"Feels Like Temperature\");"
   ]
  },
  {
   "cell_type": "code",
   "execution_count": null,
   "id": "23158924",
   "metadata": {},
   "outputs": [],
   "source": []
  },
  {
   "cell_type": "code",
   "execution_count": 125,
   "id": "dd81cd71",
   "metadata": {},
   "outputs": [
    {
     "data": {
      "image/png": "[encoded data removed]",
      "text/plain": [
       "<Figure size 432x288 with 1 Axes>"
      ]
     },
     "metadata": {
      "needs_background": "light"
     },
     "output_type": "display_data"
    }
   ],
   "source": [
    "sns.histplot(data=df, x=\"Wind\");\n",
    "plt.title(\"Wind Speed\");"
   ]
  },
  {
   "cell_type": "code",
   "execution_count": 129,
   "id": "67a20bca",
   "metadata": {},
   "outputs": [
    {
     "data": {
      "image/png": "[encoded data removed]",
      "text/plain": [
       "<Figure size 432x288 with 1 Axes>"
      ]
     },
     "metadata": {
      "needs_background": "light"
     },
     "output_type": "display_data"
    }
   ],
   "source": [
    "sns.violinplot(data=df, y=\"Wind\");\n",
    "plt.title(\"Wind Speed\");"
   ]
  },
  {
   "cell_type": "code",
   "execution_count": 130,
   "id": "cb0f41e5",
   "metadata": {},
   "outputs": [
    {
     "data": {
      "image/png": "[encoded data removed]",
      "text/plain": [
       "<Figure size 432x288 with 1 Axes>"
      ]
     },
     "metadata": {
      "needs_background": "light"
     },
     "output_type": "display_data"
    }
   ],
   "source": [
    "sns.boxplot(data=df, y=\"Wind\");\n",
    "plt.title(\"Wind Speed\");"
   ]
  },
  {
   "cell_type": "code",
   "execution_count": null,
   "id": "e3b1241b",
   "metadata": {},
   "outputs": [],
   "source": []
  },
  {
   "cell_type": "code",
   "execution_count": 131,
   "id": "abec2dd5",
   "metadata": {},
   "outputs": [
    {
     "data": {
      "image/png": "[encoded data removed]",
      "text/plain": [
       "<Figure size 432x288 with 1 Axes>"
      ]
     },
     "metadata": {
      "needs_background": "light"
     },
     "output_type": "display_data"
    }
   ],
   "source": [
    "sns.histplot(data=df, x=\"Precip\");\n",
    "plt.title(\"Precipitation\");"
   ]
  },
  {
   "cell_type": "code",
   "execution_count": 132,
   "id": "83cdc50f",
   "metadata": {},
   "outputs": [
    {
     "data": {
      "image/png": "[encoded data removed]",
      "text/plain": [
       "<Figure size 432x288 with 1 Axes>"
      ]
     },
     "metadata": {
      "needs_background": "light"
     },
     "output_type": "display_data"
    }
   ],
   "source": [
    "sns.histplot(data=df, x=\"Sky\");\n",
    "plt.title(\"Cloud Conditions\");"
   ]
  },
  {
   "cell_type": "code",
   "execution_count": null,
   "id": "ec80ccdf",
   "metadata": {},
   "outputs": [],
   "source": []
  },
  {
   "cell_type": "code",
   "execution_count": 133,
   "id": "6d51013e",
   "metadata": {},
   "outputs": [
    {
     "data": {
      "image/png": "[encoded data removed]",
      "text/plain": [
       "<Figure size 432x288 with 2 Axes>"
      ]
     },
     "metadata": {
      "needs_background": "light"
     },
     "output_type": "display_data"
    }
   ],
   "source": [
    "df_corr = df[['Temp', 'Feels Like', 'Wind']].copy()\n",
    "sns.heatmap(df_corr.corr(), annot=True);\n",
    "plt.title(\"Correlations\");"
   ]
  },
  {
   "cell_type": "code",
   "execution_count": null,
   "id": "694ede43",
   "metadata": {},
   "outputs": [],
   "source": []
  },
  {
   "cell_type": "markdown",
   "id": "88359e0b",
   "metadata": {},
   "source": [
    "# Clean Data"
   ]
  },
  {
   "cell_type": "code",
   "execution_count": 22,
   "id": "33422ce8",
   "metadata": {},
   "outputs": [
    {
     "data": {
      "text/html": [
       "<div>\n",
       "<style scoped>\n",
       "    .dataframe tbody tr th:only-of-type {\n",
       "        vertical-align: middle;\n",
       "    }\n",
       "\n",
       "    .dataframe tbody tr th {\n",
       "        vertical-align: top;\n",
       "    }\n",
       "\n",
       "    .dataframe thead th {\n",
       "        text-align: right;\n",
       "    }\n",
       "</style>\n",
       "<table border=\"1\" class=\"dataframe\">\n",
       "  <thead>\n",
       "    <tr style=\"text-align: right;\">\n",
       "      <th></th>\n",
       "      <th>Date</th>\n",
       "      <th>Start Time</th>\n",
       "      <th>Temp</th>\n",
       "      <th>Feels Like</th>\n",
       "      <th>Wind</th>\n",
       "      <th>Sky</th>\n",
       "      <th>Precip</th>\n",
       "      <th>Mi</th>\n",
       "      <th>Type</th>\n",
       "      <th>Felt</th>\n",
       "      <th>...</th>\n",
       "      <th>Top2</th>\n",
       "      <th>Bottom1</th>\n",
       "      <th>Bottom2</th>\n",
       "      <th>Head Warmth</th>\n",
       "      <th>Head Hat</th>\n",
       "      <th>Hands</th>\n",
       "      <th>Cloudy or Night</th>\n",
       "      <th>Sunny</th>\n",
       "      <th>Light</th>\n",
       "      <th>None</th>\n",
       "    </tr>\n",
       "  </thead>\n",
       "  <tbody>\n",
       "    <tr>\n",
       "      <th>0</th>\n",
       "      <td>10/18/22</td>\n",
       "      <td>1:00 PM</td>\n",
       "      <td>45</td>\n",
       "      <td>35</td>\n",
       "      <td>15</td>\n",
       "      <td>Cloudy or Night</td>\n",
       "      <td>None</td>\n",
       "      <td>3.0</td>\n",
       "      <td>Easy</td>\n",
       "      <td>Perfect</td>\n",
       "      <td>...</td>\n",
       "      <td>Chicago Marathon quarter zip</td>\n",
       "      <td>Nike Calf Crops</td>\n",
       "      <td>NaN</td>\n",
       "      <td>Bondi Band</td>\n",
       "      <td>NaN</td>\n",
       "      <td>Old Navy tech gloves (removed)</td>\n",
       "      <td>1</td>\n",
       "      <td>0</td>\n",
       "      <td>0</td>\n",
       "      <td>1</td>\n",
       "    </tr>\n",
       "    <tr>\n",
       "      <th>1</th>\n",
       "      <td>10/20/22</td>\n",
       "      <td>9:00 AM</td>\n",
       "      <td>40</td>\n",
       "      <td>30</td>\n",
       "      <td>10</td>\n",
       "      <td>Sunny</td>\n",
       "      <td>None</td>\n",
       "      <td>3.0</td>\n",
       "      <td>Easy</td>\n",
       "      <td>Perfect</td>\n",
       "      <td>...</td>\n",
       "      <td>Teal UA funnel neck</td>\n",
       "      <td>Nike unlined tights</td>\n",
       "      <td>NaN</td>\n",
       "      <td>Bondi Band</td>\n",
       "      <td>NaN</td>\n",
       "      <td>Old Navy tech gloves (removed)</td>\n",
       "      <td>0</td>\n",
       "      <td>1</td>\n",
       "      <td>0</td>\n",
       "      <td>1</td>\n",
       "    </tr>\n",
       "    <tr>\n",
       "      <th>2</th>\n",
       "      <td>11/13/22</td>\n",
       "      <td>3:15 PM</td>\n",
       "      <td>35</td>\n",
       "      <td>30</td>\n",
       "      <td>5</td>\n",
       "      <td>Cloudy or Night</td>\n",
       "      <td>None</td>\n",
       "      <td>3.0</td>\n",
       "      <td>Easy</td>\n",
       "      <td>Cold</td>\n",
       "      <td>...</td>\n",
       "      <td>Run Mag Mile sunset half zip</td>\n",
       "      <td>Nike tights with mesh backs of knees</td>\n",
       "      <td>NaN</td>\n",
       "      <td>wool single layer</td>\n",
       "      <td>baseball cap</td>\n",
       "      <td>NaN</td>\n",
       "      <td>1</td>\n",
       "      <td>0</td>\n",
       "      <td>0</td>\n",
       "      <td>1</td>\n",
       "    </tr>\n",
       "    <tr>\n",
       "      <th>3</th>\n",
       "      <td>11/18/22</td>\n",
       "      <td>10:15 AM</td>\n",
       "      <td>30</td>\n",
       "      <td>20</td>\n",
       "      <td>10</td>\n",
       "      <td>Sunny</td>\n",
       "      <td>None</td>\n",
       "      <td>3.0</td>\n",
       "      <td>Easy</td>\n",
       "      <td>Cold</td>\n",
       "      <td>...</td>\n",
       "      <td>Blue smartwool half zip</td>\n",
       "      <td>Black Athleta Rainier tights</td>\n",
       "      <td>NaN</td>\n",
       "      <td>wool double layer</td>\n",
       "      <td>baseball cap</td>\n",
       "      <td>Sugoi gloves</td>\n",
       "      <td>0</td>\n",
       "      <td>1</td>\n",
       "      <td>0</td>\n",
       "      <td>1</td>\n",
       "    </tr>\n",
       "    <tr>\n",
       "      <th>4</th>\n",
       "      <td>11/28/22</td>\n",
       "      <td>10:00 AM</td>\n",
       "      <td>40</td>\n",
       "      <td>35</td>\n",
       "      <td>5</td>\n",
       "      <td>Sunny</td>\n",
       "      <td>None</td>\n",
       "      <td>3.0</td>\n",
       "      <td>Easy</td>\n",
       "      <td>Warm</td>\n",
       "      <td>...</td>\n",
       "      <td>black smartwool half zip</td>\n",
       "      <td>Black purple Athleta tights</td>\n",
       "      <td>NaN</td>\n",
       "      <td>wool single layer</td>\n",
       "      <td>baseball cap</td>\n",
       "      <td>NaN</td>\n",
       "      <td>0</td>\n",
       "      <td>1</td>\n",
       "      <td>0</td>\n",
       "      <td>1</td>\n",
       "    </tr>\n",
       "  </tbody>\n",
       "</table>\n",
       "<p>5 rows × 21 columns</p>\n",
       "</div>"
      ],
      "text/plain": [
       "       Date Start Time  Temp  Feels Like  Wind              Sky Precip   Mi  \\\n",
       "0  10/18/22    1:00 PM    45          35    15  Cloudy or Night   None  3.0   \n",
       "1  10/20/22    9:00 AM    40          30    10            Sunny   None  3.0   \n",
       "2  11/13/22    3:15 PM    35          30     5  Cloudy or Night   None  3.0   \n",
       "3  11/18/22   10:15 AM    30          20    10            Sunny   None  3.0   \n",
       "4  11/28/22   10:00 AM    40          35     5            Sunny   None  3.0   \n",
       "\n",
       "   Type     Felt  ...                          Top2  \\\n",
       "0  Easy  Perfect  ...  Chicago Marathon quarter zip   \n",
       "1  Easy  Perfect  ...           Teal UA funnel neck   \n",
       "2  Easy     Cold  ...  Run Mag Mile sunset half zip   \n",
       "3  Easy     Cold  ...       Blue smartwool half zip   \n",
       "4  Easy    Warm   ...      black smartwool half zip   \n",
       "\n",
       "                                Bottom1 Bottom2        Head Warmth  \\\n",
       "0                       Nike Calf Crops     NaN         Bondi Band   \n",
       "1                   Nike unlined tights     NaN         Bondi Band   \n",
       "2  Nike tights with mesh backs of knees     NaN  wool single layer   \n",
       "3         Black Athleta Rainier tights      NaN  wool double layer   \n",
       "4           Black purple Athleta tights     NaN  wool single layer   \n",
       "\n",
       "       Head Hat                           Hands Cloudy or Night  Sunny  Light  \\\n",
       "0           NaN  Old Navy tech gloves (removed)               1      0      0   \n",
       "1           NaN  Old Navy tech gloves (removed)               0      1      0   \n",
       "2  baseball cap                             NaN               1      0      0   \n",
       "3  baseball cap                    Sugoi gloves               0      1      0   \n",
       "4  baseball cap                             NaN               0      1      0   \n",
       "\n",
       "   None  \n",
       "0     1  \n",
       "1     1  \n",
       "2     1  \n",
       "3     1  \n",
       "4     1  \n",
       "\n",
       "[5 rows x 21 columns]"
      ]
     },
     "execution_count": 22,
     "metadata": {},
     "output_type": "execute_result"
    }
   ],
   "source": [
    "# create dummies \n",
    "\n",
    "sky_d = pd.get_dummies(df['Sky'])\n",
    "precip_d = pd.get_dummies(df['Precip'])\n",
    "\n",
    "df = pd.concat([df, sky_d, precip_d], axis=1)\n",
    "\n",
    "df.head()"
   ]
  },
  {
   "cell_type": "code",
   "execution_count": null,
   "id": "4566a9b3",
   "metadata": {},
   "outputs": [],
   "source": []
  },
  {
   "cell_type": "markdown",
   "id": "90862fa0",
   "metadata": {},
   "source": [
    "# Predict Feels Like Temp"
   ]
  },
  {
   "cell_type": "code",
   "execution_count": 134,
   "id": "676a7cc4",
   "metadata": {},
   "outputs": [],
   "source": [
    "# separate dependent variable from independent varibles \n",
    "y = np.array(df['Feels Like']).reshape(-1, 1)\n",
    "X = df[['Temp', 'Wind', 'Sunny','Light']]"
   ]
  },
  {
   "cell_type": "code",
   "execution_count": 135,
   "id": "82586d92",
   "metadata": {},
   "outputs": [],
   "source": [
    "# split data\n",
    "X_train, X_test, y_train, y_test = train_test_split(X, y, random_state = 5, test_size= 0.25)"
   ]
  },
  {
   "cell_type": "code",
   "execution_count": 136,
   "id": "4b99f650",
   "metadata": {},
   "outputs": [],
   "source": [
    "ss = preprocessing.StandardScaler()\n",
    "X_train_ss = ss.fit_transform(X_train)\n",
    "X_test_ss = ss.transform(X_test)\n",
    "\n",
    "y_train_ss = ss.fit_transform(y_train)\n",
    "y_test_ss = ss.transform(y_test)"
   ]
  },
  {
   "cell_type": "code",
   "execution_count": 137,
   "id": "3bdc67a6",
   "metadata": {},
   "outputs": [],
   "source": [
    "# fit model \n",
    "lr = LinearRegression().fit(X_train_ss, y_train_ss)"
   ]
  },
  {
   "cell_type": "code",
   "execution_count": 138,
   "id": "8dea012b",
   "metadata": {},
   "outputs": [
    {
     "name": "stdout",
     "output_type": "stream",
     "text": [
      "MAE on train: 0.19203508820226903\n",
      "MAE on test: 0.3122583421991222\n"
     ]
    }
   ],
   "source": [
    "# check error \n",
    "pred = lr.predict(X_train_ss)\n",
    "print('MAE on train:', metrics.mean_absolute_error(y_train_ss, pred))\n",
    "pred = lr.predict(X_test_ss)\n",
    "print('MAE on test:', metrics.mean_absolute_error(y_test_ss, pred))"
   ]
  },
  {
   "cell_type": "code",
   "execution_count": 139,
   "id": "a3d3a5c9",
   "metadata": {},
   "outputs": [
    {
     "data": {
      "image/png": "[encoded data removed]",
      "text/plain": [
       "<Figure size 432x288 with 1 Axes>"
      ]
     },
     "metadata": {
      "needs_background": "light"
     },
     "output_type": "display_data"
    }
   ],
   "source": [
    "# check residuals \n",
    "\n",
    "residuals = y_test_ss - pred\n",
    "plt.scatter(residuals, pred)\n",
    "plt.show()"
   ]
  },
  {
   "cell_type": "code",
   "execution_count": 140,
   "id": "0680288c",
   "metadata": {},
   "outputs": [
    {
     "name": "stdout",
     "output_type": "stream",
     "text": [
      "[[35.]\n",
      " [45.]\n",
      " [30.]\n",
      " [10.]\n",
      " [35.]\n",
      " [35.]\n",
      " [30.]]\n",
      "[[37.00302725]\n",
      " [47.2653885 ]\n",
      " [34.81331988]\n",
      " [11.49596367]\n",
      " [39.9445005 ]\n",
      " [34.73763875]\n",
      " [31.87184662]]\n"
     ]
    }
   ],
   "source": [
    "# unscale to check values \n",
    "\n",
    "y_test_inverse = ss.inverse_transform(y_test_ss)\n",
    "pred_inverse = ss.inverse_transform(pred)\n",
    "\n",
    "np.set_printoptions(suppress=True)\n",
    "\n",
    "print(y_test_inverse)\n",
    "print(pred_inverse)"
   ]
  },
  {
   "cell_type": "code",
   "execution_count": null,
   "id": "705a91ab",
   "metadata": {},
   "outputs": [],
   "source": []
  },
  {
   "cell_type": "markdown",
   "id": "d7f61c04",
   "metadata": {},
   "source": [
    "# Recommend Running Clothes"
   ]
  },
  {
   "cell_type": "code",
   "execution_count": 141,
   "id": "abc28a9c",
   "metadata": {},
   "outputs": [],
   "source": [
    "from sklearn.neighbors import NearestNeighbors\n",
    "import warnings\n",
    "warnings.filterwarnings(\"ignore\")"
   ]
  },
  {
   "cell_type": "code",
   "execution_count": 142,
   "id": "ef7fae69",
   "metadata": {},
   "outputs": [
    {
     "data": {
      "text/html": [
       "<div>\n",
       "<style scoped>\n",
       "    .dataframe tbody tr th:only-of-type {\n",
       "        vertical-align: middle;\n",
       "    }\n",
       "\n",
       "    .dataframe tbody tr th {\n",
       "        vertical-align: top;\n",
       "    }\n",
       "\n",
       "    .dataframe thead th {\n",
       "        text-align: right;\n",
       "    }\n",
       "</style>\n",
       "<table border=\"1\" class=\"dataframe\">\n",
       "  <thead>\n",
       "    <tr style=\"text-align: right;\">\n",
       "      <th></th>\n",
       "      <th>Date</th>\n",
       "      <th>Start Time</th>\n",
       "      <th>Temp</th>\n",
       "      <th>Feels Like</th>\n",
       "      <th>Wind</th>\n",
       "      <th>Sky</th>\n",
       "      <th>Precip</th>\n",
       "      <th>Mi</th>\n",
       "      <th>Type</th>\n",
       "      <th>Felt</th>\n",
       "      <th>...</th>\n",
       "      <th>Top2</th>\n",
       "      <th>Bottom1</th>\n",
       "      <th>Bottom2</th>\n",
       "      <th>Head Warmth</th>\n",
       "      <th>Head Hat</th>\n",
       "      <th>Hands</th>\n",
       "      <th>Cloudy or Night</th>\n",
       "      <th>Sunny</th>\n",
       "      <th>Light</th>\n",
       "      <th>None</th>\n",
       "    </tr>\n",
       "  </thead>\n",
       "  <tbody>\n",
       "    <tr>\n",
       "      <th>0</th>\n",
       "      <td>10/18/22</td>\n",
       "      <td>1:00 PM</td>\n",
       "      <td>45</td>\n",
       "      <td>35</td>\n",
       "      <td>15</td>\n",
       "      <td>Cloudy or Night</td>\n",
       "      <td>None</td>\n",
       "      <td>3.0</td>\n",
       "      <td>Easy</td>\n",
       "      <td>Perfect</td>\n",
       "      <td>...</td>\n",
       "      <td>Chicago Marathon quarter zip</td>\n",
       "      <td>Nike Calf Crops</td>\n",
       "      <td>NaN</td>\n",
       "      <td>Bondi Band</td>\n",
       "      <td>NaN</td>\n",
       "      <td>Old Navy tech gloves (removed)</td>\n",
       "      <td>1</td>\n",
       "      <td>0</td>\n",
       "      <td>0</td>\n",
       "      <td>1</td>\n",
       "    </tr>\n",
       "    <tr>\n",
       "      <th>1</th>\n",
       "      <td>10/20/22</td>\n",
       "      <td>9:00 AM</td>\n",
       "      <td>40</td>\n",
       "      <td>30</td>\n",
       "      <td>10</td>\n",
       "      <td>Sunny</td>\n",
       "      <td>None</td>\n",
       "      <td>3.0</td>\n",
       "      <td>Easy</td>\n",
       "      <td>Perfect</td>\n",
       "      <td>...</td>\n",
       "      <td>Teal UA funnel neck</td>\n",
       "      <td>Nike unlined tights</td>\n",
       "      <td>NaN</td>\n",
       "      <td>Bondi Band</td>\n",
       "      <td>NaN</td>\n",
       "      <td>Old Navy tech gloves (removed)</td>\n",
       "      <td>0</td>\n",
       "      <td>1</td>\n",
       "      <td>0</td>\n",
       "      <td>1</td>\n",
       "    </tr>\n",
       "    <tr>\n",
       "      <th>2</th>\n",
       "      <td>11/13/22</td>\n",
       "      <td>3:15 PM</td>\n",
       "      <td>35</td>\n",
       "      <td>30</td>\n",
       "      <td>5</td>\n",
       "      <td>Cloudy or Night</td>\n",
       "      <td>None</td>\n",
       "      <td>3.0</td>\n",
       "      <td>Easy</td>\n",
       "      <td>Cold</td>\n",
       "      <td>...</td>\n",
       "      <td>Run Mag Mile sunset half zip</td>\n",
       "      <td>Nike tights with mesh backs of knees</td>\n",
       "      <td>NaN</td>\n",
       "      <td>wool single layer</td>\n",
       "      <td>baseball cap</td>\n",
       "      <td>NaN</td>\n",
       "      <td>1</td>\n",
       "      <td>0</td>\n",
       "      <td>0</td>\n",
       "      <td>1</td>\n",
       "    </tr>\n",
       "    <tr>\n",
       "      <th>3</th>\n",
       "      <td>11/18/22</td>\n",
       "      <td>10:15 AM</td>\n",
       "      <td>30</td>\n",
       "      <td>20</td>\n",
       "      <td>10</td>\n",
       "      <td>Sunny</td>\n",
       "      <td>None</td>\n",
       "      <td>3.0</td>\n",
       "      <td>Easy</td>\n",
       "      <td>Cold</td>\n",
       "      <td>...</td>\n",
       "      <td>Blue smartwool half zip</td>\n",
       "      <td>Black Athleta Rainier tights</td>\n",
       "      <td>NaN</td>\n",
       "      <td>wool double layer</td>\n",
       "      <td>baseball cap</td>\n",
       "      <td>Sugoi gloves</td>\n",
       "      <td>0</td>\n",
       "      <td>1</td>\n",
       "      <td>0</td>\n",
       "      <td>1</td>\n",
       "    </tr>\n",
       "    <tr>\n",
       "      <th>4</th>\n",
       "      <td>11/28/22</td>\n",
       "      <td>10:00 AM</td>\n",
       "      <td>40</td>\n",
       "      <td>35</td>\n",
       "      <td>5</td>\n",
       "      <td>Sunny</td>\n",
       "      <td>None</td>\n",
       "      <td>3.0</td>\n",
       "      <td>Easy</td>\n",
       "      <td>Warm</td>\n",
       "      <td>...</td>\n",
       "      <td>black smartwool half zip</td>\n",
       "      <td>Black purple Athleta tights</td>\n",
       "      <td>NaN</td>\n",
       "      <td>wool single layer</td>\n",
       "      <td>baseball cap</td>\n",
       "      <td>NaN</td>\n",
       "      <td>0</td>\n",
       "      <td>1</td>\n",
       "      <td>0</td>\n",
       "      <td>1</td>\n",
       "    </tr>\n",
       "  </tbody>\n",
       "</table>\n",
       "<p>5 rows × 21 columns</p>\n",
       "</div>"
      ],
      "text/plain": [
       "       Date Start Time  Temp  Feels Like  Wind              Sky Precip   Mi  \\\n",
       "0  10/18/22    1:00 PM    45          35    15  Cloudy or Night   None  3.0   \n",
       "1  10/20/22    9:00 AM    40          30    10            Sunny   None  3.0   \n",
       "2  11/13/22    3:15 PM    35          30     5  Cloudy or Night   None  3.0   \n",
       "3  11/18/22   10:15 AM    30          20    10            Sunny   None  3.0   \n",
       "4  11/28/22   10:00 AM    40          35     5            Sunny   None  3.0   \n",
       "\n",
       "   Type     Felt  ...                          Top2  \\\n",
       "0  Easy  Perfect  ...  Chicago Marathon quarter zip   \n",
       "1  Easy  Perfect  ...           Teal UA funnel neck   \n",
       "2  Easy     Cold  ...  Run Mag Mile sunset half zip   \n",
       "3  Easy     Cold  ...       Blue smartwool half zip   \n",
       "4  Easy    Warm   ...      black smartwool half zip   \n",
       "\n",
       "                                Bottom1 Bottom2        Head Warmth  \\\n",
       "0                       Nike Calf Crops     NaN         Bondi Band   \n",
       "1                   Nike unlined tights     NaN         Bondi Band   \n",
       "2  Nike tights with mesh backs of knees     NaN  wool single layer   \n",
       "3         Black Athleta Rainier tights      NaN  wool double layer   \n",
       "4           Black purple Athleta tights     NaN  wool single layer   \n",
       "\n",
       "       Head Hat                           Hands Cloudy or Night  Sunny  Light  \\\n",
       "0           NaN  Old Navy tech gloves (removed)               1      0      0   \n",
       "1           NaN  Old Navy tech gloves (removed)               0      1      0   \n",
       "2  baseball cap                             NaN               1      0      0   \n",
       "3  baseball cap                    Sugoi gloves               0      1      0   \n",
       "4  baseball cap                             NaN               0      1      0   \n",
       "\n",
       "   None  \n",
       "0     1  \n",
       "1     1  \n",
       "2     1  \n",
       "3     1  \n",
       "4     1  \n",
       "\n",
       "[5 rows x 21 columns]"
      ]
     },
     "execution_count": 142,
     "metadata": {},
     "output_type": "execute_result"
    }
   ],
   "source": [
    "df.head()"
   ]
  },
  {
   "cell_type": "code",
   "execution_count": 143,
   "id": "eca04d8e",
   "metadata": {},
   "outputs": [],
   "source": [
    "samples = df[['Temp', 'Feels Like', 'Wind', 'Sunny', 'Light']].copy()"
   ]
  },
  {
   "cell_type": "code",
   "execution_count": 144,
   "id": "597cac83",
   "metadata": {},
   "outputs": [],
   "source": [
    "neigh = NearestNeighbors(n_neighbors=1)"
   ]
  },
  {
   "cell_type": "code",
   "execution_count": 145,
   "id": "0dd498fc",
   "metadata": {},
   "outputs": [
    {
     "data": {
      "text/plain": [
       "NearestNeighbors(n_neighbors=1)"
      ]
     },
     "execution_count": 145,
     "metadata": {},
     "output_type": "execute_result"
    }
   ],
   "source": [
    "neigh.fit(samples)"
   ]
  },
  {
   "cell_type": "code",
   "execution_count": 152,
   "id": "506ddefb",
   "metadata": {},
   "outputs": [],
   "source": [
    "temp = 40\n",
    "feels_like = 30\n",
    "wind = 10\n",
    "sunny = 0\n",
    "precip = 0\n",
    "\n",
    "rec = neigh.kneighbors([[temp,feels_like,wind,sunny,precip]], return_distance=False)[0][0]"
   ]
  },
  {
   "cell_type": "code",
   "execution_count": 153,
   "id": "f8aad4e4",
   "metadata": {},
   "outputs": [
    {
     "name": "stdout",
     "output_type": "stream",
     "text": [
      "You should wear:\n",
      "Top, base:     Teal Nike base\n",
      "Top, mid:      Teal UA funnel neck\n",
      "Bottom, base:  Nike unlined tights\n",
      "Bottom, top:   nan\n",
      "Head Warmth:   Bondi Band\n",
      "Head Hat:      nan\n",
      "Hands:         Old Navy tech gloves (removed)\n",
      "\n",
      "Conditions the last time you wore this:\n",
      "Temp: 40 , Feels Like: 30 , Wind: 10 , Sunny: 1 , Precip: 0\n"
     ]
    }
   ],
   "source": [
    "print('You should wear:')\n",
    "print('Top, base:    ', df.iloc[rec]['Top1'])\n",
    "print('Top, mid:     ', df.iloc[rec]['Top2'])\n",
    "print('Bottom, base: ', df.iloc[rec]['Bottom1'])\n",
    "print('Bottom, top:  ', df.iloc[rec]['Bottom2'])\n",
    "print('Head Warmth:  ', df.iloc[rec]['Head Warmth'])\n",
    "print('Head Hat:     ', df.iloc[rec]['Head Hat'])\n",
    "print('Hands:        ', df.iloc[rec]['Hands'])\n",
    "\n",
    "print('\\nConditions the last time you wore this:')\n",
    "print('Temp:', df.iloc[rec]['Temp'], ', Feels Like:', df.iloc[rec]['Feels Like'], ', Wind:', df.iloc[rec]['Wind'], \n",
    "      ', Sunny:', df.iloc[rec]['Sunny'], ', Precip:', df.iloc[rec]['Light'])"
   ]
  },
  {
   "cell_type": "code",
   "execution_count": null,
   "id": "863cf46a",
   "metadata": {},
   "outputs": [],
   "source": []
  },
  {
   "cell_type": "code",
   "execution_count": null,
   "id": "a78b3975",
   "metadata": {},
   "outputs": [],
   "source": []
  }
 ],
 "metadata": {
  "kernelspec": {
   "display_name": "Python 3 (ipykernel)",
   "language": "python",
   "name": "python3"
  },
  "language_info": {
   "codemirror_mode": {
    "name": "ipython",
    "version": 3
   },
   "file_extension": ".py",
   "mimetype": "text/x-python",
   "name": "python",
   "nbconvert_exporter": "python",
   "pygments_lexer": "ipython3",
   "version": "3.9.12"
  }
 },
 "nbformat": 4,
 "nbformat_minor": 5
}
